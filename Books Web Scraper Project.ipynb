{
 "cells": [
  {
   "cell_type": "code",
   "execution_count": 120,
   "id": "42593d24-8db6-4ece-9b7e-abff0a930165",
   "metadata": {},
   "outputs": [],
   "source": [
    "# import libraries \n",
    "\n",
    "from bs4 import BeautifulSoup\n",
    "import requests\n",
    "import pandas as pd"
   ]
  },
  {
   "cell_type": "code",
   "execution_count": 122,
   "id": "37ede33c-837c-440b-af47-2859ed58ccb2",
   "metadata": {},
   "outputs": [],
   "source": [
    "# Connect to Website and pull in data for first 5 pages\n",
    "\n",
    "# Initialize an empty list to store book details\n",
    "books = []\n",
    "\n",
    "# Loop through the first 5 pages of the website\n",
    "for i in range(1,6):\n",
    "    url = f\"https://books.toscrape.com/catalogue/page-{i}.html\"\n",
    "    \n",
    "    response = requests.get(url)\n",
    "    \n",
    "    response = response.content\n",
    "    \n",
    "    soup = BeautifulSoup(response, 'html.parser')\n",
    "    \n",
    "    ol = soup.find('ol')\n",
    "\n",
    "    # Find all the book listings on the page (each book is within an article tag)\n",
    "    articles = soup.find_all('article', class_='product_pod')\n",
    "    \n",
    "     # Loop through each article to extract book details\n",
    "    for article in articles:\n",
    "        # Extract the title from the 'img' tag (alt attribute contains the book title)\n",
    "        image = article.find('img')\n",
    "        title = image.attrs['alt']\n",
    "\n",
    "        # Extract the star rating by finding the 'p' tag's class attribute\n",
    "        star = article.find('p')\n",
    "        star = star['class'][1]\n",
    "\n",
    "        # Extract the price, remove the currency symbol, and convert it to a float\n",
    "        price = article.find('p', class_='price_color').text\n",
    "        price = float(price[1:])\n",
    "        books.append([title,price,star])"
   ]
  },
  {
   "cell_type": "code",
   "execution_count": 124,
   "id": "103a6fed-de50-47f2-a783-e2e17265f66d",
   "metadata": {},
   "outputs": [],
   "source": [
    "# Convert the books list to a pandas DataFrame with appropriate column names\n",
    "\n",
    "df = pd.DataFrame(books, columns=['Title', 'Price', 'Star Rating'])"
   ]
  },
  {
   "cell_type": "code",
   "execution_count": 126,
   "id": "1128a544-40f5-4208-a6b6-1daf8fbd9d6c",
   "metadata": {},
   "outputs": [],
   "source": [
    "df.to_csv('books.csv', index = False)"
   ]
  }
 ],
 "metadata": {
  "kernelspec": {
   "display_name": "Python 3 (ipykernel)",
   "language": "python",
   "name": "python3"
  },
  "language_info": {
   "codemirror_mode": {
    "name": "ipython",
    "version": 3
   },
   "file_extension": ".py",
   "mimetype": "text/x-python",
   "name": "python",
   "nbconvert_exporter": "python",
   "pygments_lexer": "ipython3",
   "version": "3.12.4"
  }
 },
 "nbformat": 4,
 "nbformat_minor": 5
}
